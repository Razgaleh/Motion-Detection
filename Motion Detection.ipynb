{
 "cells": [
  {
   "cell_type": "markdown",
   "metadata": {},
   "source": [
    "# 1.1 Motion Detection Application"
   ]
  },
  {
   "cell_type": "markdown",
   "metadata": {},
   "source": [
    "In this project we create a motion detection algorithm using OpenCV library. In this section, we create the motion detection application using frame differencing and background subtraction. This application detects moving cars and draws a green rectangle around them. "
   ]
  },
  {
   "cell_type": "code",
   "execution_count": 9,
   "metadata": {},
   "outputs": [],
   "source": [
    "# Importing libraries\n",
    "import cv2\n",
    "\n",
    "# Initializing base frame\n",
    "initial_frame = None\n",
    "\n",
    "# Using VideoCapture function to create the video capture object\n",
    "video=cv2.VideoCapture('./Traffic_Laramie_1.mp4')\n",
    "\n",
    "# Starting an infinite loop and keep reading frames from the video until we press 'q'\n",
    "# Capture frame-by-frame\n",
    "# VideoCapture doesn't consider the fps of the video\n",
    "\n",
    "while True:\n",
    "    check, frame = video.read()\n",
    "    status=0\n",
    "    if check == True:\n",
    "        \n",
    "        # Gray conversion and noise reduction (smoothening)      \n",
    "        gray_frame=cv2.cvtColor(frame,cv2.COLOR_BGR2GRAY)\n",
    "        blur_frame=cv2.GaussianBlur(gray_frame,(25,25),0)\n",
    " \n",
    "\n",
    "        # The first captured frame is the baseline image\n",
    "        if initial_frame is None:\n",
    "            initial_frame = blur_frame\n",
    "            continue\n",
    "\n",
    "        # The difference between the baseline and the new frame\n",
    "        delta_frame=cv2.absdiff(initial_frame,blur_frame)\n",
    "        # The difference (the delta_frame) is converted into a binary image\n",
    "        # If a particular pixel value is greater than a certain threshold (specified by us here as 20),\n",
    "        # it will be assigned the value for White (255) else Black(0)\n",
    "        # Important: you may have to change the threshold value for a better performance with your video\n",
    "        threshold_frame=cv2.threshold(delta_frame,20,255, cv2.THRESH_BINARY)[1]\n",
    "\n",
    "\n",
    "        # The cv2.findContours() method we will identify all the contours in our image.\n",
    "        # This method expects 3 parameters, (a) image, (b) contour retrieval mode and\n",
    "        # (c) contour approximation method\n",
    "        (contours,_)=cv2.findContours(threshold_frame,cv2.RETR_EXTERNAL,cv2.RETR_CCOMP)\n",
    "        \n",
    "        for c in contours:\n",
    "            # contourArea() method filters out any small contours\n",
    "            if cv2.contourArea(c) < 2500:\n",
    "                continue\n",
    "            (x, y, w, h)=cv2.boundingRect(c)\n",
    "            cv2.rectangle(frame, (x, y), (x+w, y+h), (0,255,0), 1)\n",
    "      \n",
    "\n",
    "        # To better understand the application, we can visualize the different frames generated\n",
    "        cv2.imshow('Traffic Video', frame)\n",
    "        cv2.imshow('Baseline image', initial_frame)\n",
    "        cv2.imshow(\"Gray Frame\",gray_frame)\n",
    "        cv2.imshow('Delta frame', delta_frame)   \n",
    "        cv2.imshow('Threshold frame', threshold_frame)\n",
    "    \n",
    "  \n",
    "\n",
    "    # Stop the program by pressing 'q'    \n",
    "    if cv2.waitKey(1) == ord('q'):\n",
    "        break\n",
    "        \n",
    "# After the loop release the video object\n",
    "# and destroy all the windows\n",
    "\n",
    "video.release()\n",
    "cv2.destroyAllWindows()"
   ]
  },
  {
   "cell_type": "markdown",
   "metadata": {},
   "source": [
    "The code was inspired by the lab provided in class. "
   ]
  }
 ],
 "metadata": {
  "kernelspec": {
   "display_name": "Python 3",
   "language": "python",
   "name": "python3"
  },
  "language_info": {
   "codemirror_mode": {
    "name": "ipython",
    "version": 3
   },
   "file_extension": ".py",
   "mimetype": "text/x-python",
   "name": "python",
   "nbconvert_exporter": "python",
   "pygments_lexer": "ipython3",
   "version": "3.11.3"
  },
  "orig_nbformat": 4
 },
 "nbformat": 4,
 "nbformat_minor": 2
}
